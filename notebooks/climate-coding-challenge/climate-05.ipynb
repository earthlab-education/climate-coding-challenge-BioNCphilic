{
 "cells": [
  {
   "cell_type": "markdown",
   "id": "de6a4c7c-6c89-4257-bc5e-b5b6a6d5b308",
   "metadata": {},
   "source": [
    "# So, is the climate changing?\n",
    "\n",
    "First things first – make sure to load the climate `DataFrame` you\n",
    "stored in the previous notebooks using Jupyter cell magic:"
   ]
  },
  {
   "cell_type": "code",
   "execution_count": 1,
   "id": "8262b450",
   "metadata": {},
   "outputs": [],
   "source": [
    "# Load all stored variables\n",
    "%store -r"
   ]
  },
  {
   "cell_type": "markdown",
   "id": "5de5565c-d612-4f51-981b-8e2d80a410e2",
   "metadata": {},
   "source": [
    "## Quantify how fast the climate is changing with a trend line\n",
    "\n",
    "Global climate change causes different effects in different places when\n",
    "we zoom in to a local area. However, you probably noticed when you\n",
    "looked at mean annual temperatures over time that they were rising. We\n",
    "can use a technique called **Linear Ordinary Least Squares (OLS)\n",
    "Regression** to determine how quickly temperatures are rising on\n",
    "average.\n",
    "\n",
    "Before we get started, it’s important to consider that OLS regression is\n",
    "not always the right technique, because it makes some important\n",
    "assumptions about our data:\n",
    "\n",
    "### Random error  \n",
    "Variation in temperature can be caused by many things beyond global\n",
    "climate change. For example, temperatures often vary with patterns of\n",
    "ocean surface temperatures (*teleconnections*), the most famous of which\n",
    "are El Niño and La Niña. By using a linear OLS regression, we’re\n",
    "assuming that all the variation in temperature except for climate change\n",
    "is random. \n",
    "\n",
    "### Normally distributed error\n",
    "If you have taken a statistics class, you probably learned a lot about\n",
    "the normal, or Gaussian distribution. For right now, what you need to\n",
    "know is that OLS regression is useful for identifying trends in average\n",
    "temperature, but wouldn’t be appropriate for looking at trends in daily\n",
    "precipitation (because most days have zero precipitation), or at maximum\n",
    "or minimum annual temperatures (because these are extreme values, and\n",
    "the normal distribution tends to underestimate the likelihood of large\n",
    "events). \n",
    "\n",
    "### Linearity\n",
    "We’re assuming that temperatures are increasing or decreasing at a\n",
    "constant rate over time. We wouldn’t be able to look at rates that\n",
    "change over time. For example, many locations in the Arctic remained the\n",
    "same temperature for much longer than the rest of the world, because ice\n",
    "melt was absorbing all the extra heat. Linear OLS regression wouldn’t be\n",
    "able to identify when the temperature rise began on its own.\n",
    "\n",
    "### Stationarity\n",
    "\n",
    "We’re assuming that variation in temperature caused by things *other*\n",
    "than global climate change (e.g. the random error) behaves the same over\n",
    "time. For example, the linear OLS regression can’t take increased\n",
    "variability from year to year into account, which is a common effect of\n",
    "climate change. We often see “global weirding”, or more extreme head\n",
    "*and* cold, in addition to overall increases. You can observe this most\n",
    "easily by looking at your daily data again. Does it seem to be fanning\n",
    "in or out over time?\n",
    "\n",
    "\n",
    "\n",
    "## YOUR TASK: Is linear OLS regression right for your data?\n",
    "\n",
    "It’s pretty rare to encounter a perfect statistical model where all the\n",
    "assumptions are met, but you want to be on the lookout for serious\n",
    "discrepancies, especially when making predictions. For example,\n",
    "[ignoring assumptions about Gaussian error arguably led to the 2008\n",
    "financial crash](https://www.wired.com/2009/02/wp-quant/).\n",
    "\n",
    "1. Take a look at your data. In the cell below, write a few\n",
    "    sentences about ways your data does and does not meet the linear OLS\n",
    "    regression assumptions."
   ]
  },
  {
   "cell_type": "markdown",
   "id": "2d056024",
   "metadata": {},
   "source": [
    "## Using statistics to evaluate annual temperature trend in CO\n",
    "* There are some years that may not have a complete record of temps, \n",
    "so the variation in those years does not show a normal distribution."
   ]
  },
  {
   "cell_type": "markdown",
   "id": "0cded352",
   "metadata": {},
   "source": []
  },
  {
   "cell_type": "markdown",
   "id": "3937a655",
   "metadata": {},
   "source": [
    "> **Your task:**\n",
    ">\n",
    "> The following cell contains package imports that you will need to\n",
    "> calculate and plot an OLS Linear trend line. Make sure to run the cell\n",
    "> before moving on, and if you have any additional packages you would\n",
    "> like to use, add them here later on."
   ]
  },
  {
   "cell_type": "code",
   "execution_count": 2,
   "id": "209b3e4f",
   "metadata": {},
   "outputs": [],
   "source": [
    "# Advanced options on matplotlib/seaborn/pandas plots\n",
    "import matplotlib.pyplot as plt\n",
    "# Common statistical plots for tabular data\n",
    "import seaborn as sns\n",
    "# Fit an OLS linear regression\n",
    "from sklearn.linear_model import LinearRegression"
   ]
  },
  {
   "cell_type": "markdown",
   "id": "82ee8183-a772-4727-89a8-fcd86832c09a",
   "metadata": {},
   "source": [
    "> **Your task: Regression**\n",
    ">\n",
    "> 1.  To get sample code, ask ChatGPT how to fit a linear model to your\n",
    ">     data. If you’re new to using large language modesl, go ahead and\n",
    ">     check out [our\n",
    ">     query](https://chatgpt.com/share/649b897b-9075-457e-8e12-308f795312a1)\n",
    "> 2.  Copy code that uses the `scikit-learn` package to perform a OLS\n",
    ">     linear regression to the code cell below.\n",
    "> 3.  Check out your previous plot. Does it make sense to include all\n",
    ">     the data when calculating a trend line? Be sure to select out data\n",
    ">     that meets the OLS assumptions.\n",
    "\n",
    "> **Note**\n",
    ">\n",
    "> We know that some computers, networks, and countries block LLM (large\n",
    "> language model) sites, and that LLMs can sometimes perpetuate\n",
    "> oppressive or offensive language and ideas. However, LLMs are\n",
    "> increasingly standard tools for programming – [according to\n",
    "> GitHub](https://github.com/features/copilot) many developers code 55%\n",
    "> faster with LLM assistance. We also see in our classes that LLMs give\n",
    "> students the ability to work on complex real-world problems earlier\n",
    "> on. We feel it’s worth the trade-off, and at this point we would be\n",
    "> doing you a disservice professionally to teach you to code without\n",
    "> LLMs. If you can’t access them, don’t worry – we’ll present a variety\n",
    "> of options for finding example code. For example, you can also search\n",
    "> for an example on a site like\n",
    "> [StackOverflow](https://stackoverflow.com/) (this is how we all\n",
    "> learned to code, and with the right question it’s a fantastic resource\n",
    "> for any coder to get access to up-to-date information from world\n",
    "> experts quickly). You can also use our solutions as a starting point."
   ]
  },
  {
   "cell_type": "code",
   "execution_count": 3,
   "id": "96b31338",
   "metadata": {},
   "outputs": [
    {
     "name": "stdout",
     "output_type": "stream",
     "text": [
      "Slope: 0.018274544965729347 degrees per year\n"
     ]
    }
   ],
   "source": [
    "# Fit an OLS Linear Regression to the data\n",
    "annual_boulder_climate_df = annual_boulder_climate_df.loc['1949':'2019']\n",
    "\n",
    "# Drop no data values\n",
    "observations = annual_boulder_climate_df.TOBS.dropna()\n",
    "\n",
    "# Define the dependent variable and independent variable(s)\n",
    "features = observations.index.year.values.reshape(-1, 1)\n",
    "response = observations\n",
    "\n",
    "# Create a Linear Regression model\n",
    "model = LinearRegression()\n",
    "\n",
    "# Fit the model on the training data\n",
    "model.fit(features, response)\n",
    "\n",
    "# Calculate and print the metrics\n",
    "print(f'Slope: {model.coef_[0]} degrees per year')"
   ]
  },
  {
   "cell_type": "markdown",
   "id": "e95f7f83-54fd-403a-bfba-b99a9b2a3b67",
   "metadata": {},
   "source": [
    "## Plot your trend line\n",
    "\n",
    "Trend lines are often used to help your audience understand and process\n",
    "a time-series plot. In this case, we’ve chosed mean temperature values\n",
    "rather than extremes, so we think OLS is an appropriate model to use to\n",
    "show a trend.\n",
    "\n",
    "> **Is it ok to plot a trend line even if OLS isn’t an appropriate\n",
    "> model?**\n",
    ">\n",
    "> This is a tricky issue. When it comes to a trend line, choosing a\n",
    "> model that is technically more appropriate may require much more\n",
    "> complex code without resulting in a noticeably different trend line.\n",
    ">\n",
    "> We think an OLS trend line is an ok visual tool to indicate the\n",
    "> approximate direction and size of a trend. If you are showing standard\n",
    "> error, making predictions or inferences based on your model, or\n",
    "> calculating probabilities (p-values) based on your model, or making\n",
    "> statements about the statistical significance of a trend, we’d suggest\n",
    "> reconsidering your choice of model.\n",
    "\n",
    "#  Your task: Regression\n",
    "\n",
    "1.  Add values for x (year) and y (temperature) to plot a regression\n",
    "    plot. You will have to select out the year from the index values,\n",
    "    just like you probably did when fitting your linear model above!\n",
    "2.  Label the axes of your plot with the `title`, `xlabel`, and `ylabel`\n",
    "    parameters of `ax.set()`. This function takes your plot and changes the settings. You can see how to add the degree symbol in the example\n",
    "    below. Make sure your labels match what you’re plotting! :::"
   ]
  },
  {
   "cell_type": "code",
   "execution_count": 4,
   "id": "acb4c467",
   "metadata": {},
   "outputs": [
    {
     "data": {
      "image/png": "[encoded data removed]",
      "text/plain": [
       "<Figure size 640x480 with 1 Axes>"
      ]
     },
     "metadata": {},
     "output_type": "display_data"
    }
   ],
   "source": [
    "# Plot annual average temperature data with a trend line\n",
    "ax = sns.regplot(\n",
    "    x=annual_boulder_climate_df.index.year, \n",
    "    y=annual_boulder_climate_df.TOBS,\n",
    "    color='red',\n",
    "    line_kws={'color': 'black'})\n",
    "# Set plot labels\n",
    "ax.set(\n",
    "    title='Temperature Trend in Boulder CO',\n",
    "    xlabel='Year',\n",
    "    ylabel='Temperature ($^\\circ$F)'\n",
    ")\n",
    "# Display the plot without extra text\n",
    "plt.show()"
   ]
  },
  {
   "cell_type": "markdown",
   "id": "732f5dae-1317-4081-9378-f755a038fff8",
   "metadata": {},
   "source": [
    "<link rel=\"stylesheet\" type=\"text/css\" href=\"./assets/styles.css\"><div class=\"callout callout-style-default callout-titled callout-task\"><div class=\"callout-header\"><div class=\"callout-icon-container\"><i class=\"callout-icon\"></i></div><div class=\"callout-title-container flex-fill\">Try It: Interpret the trend</div></div><div class=\"callout-body-container callout-body\"><ol type=\"1\">\n",
    "<li><p>Create a new Markdown cell below this one.</p></li>\n",
    "<li><p>Write a plot headline. Your headline should\n",
    "<strong>interpret</strong> your plot, unlike a caption which neutrally\n",
    "describes the image.</p></li>\n",
    "<li><p>Is the climate changing? How much? Report the slope of your trend\n",
    "line.</p></li>\n",
    "</ol></div></div>"
   ]
  }
 ],
 "metadata": {
  "kernelspec": {
   "display_name": "base",
   "language": "python",
   "name": "python3"
  },
  "language_info": {
   "codemirror_mode": {
    "name": "ipython",
    "version": 3
   },
   "file_extension": ".py",
   "mimetype": "text/x-python",
   "name": "python",
   "nbconvert_exporter": "python",
   "pygments_lexer": "ipython3",
   "version": "3.10.11"
  }
 },
 "nbformat": 4,
 "nbformat_minor": 5
}
