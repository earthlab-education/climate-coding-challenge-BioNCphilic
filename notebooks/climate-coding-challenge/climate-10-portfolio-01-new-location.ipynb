{
 "cells": [
  {
   "cell_type": "markdown",
   "id": "bac4c77c-5e17-4404-bcf6-9e2f815c570b",
   "metadata": {},
   "source": [
    "# Climate portfolio post\n",
    "\n",
    "Your turn!\n",
    "\n",
    "## Pick a new location and/or measurement to plot\n",
    "🌏 📈\n",
    "\n",
    "Recreate the workflow you just did in a place that interests you OR with\n",
    "a different measurement. You will need to make your own new Markdown and\n",
    "Code cells below this one, or create a new notebook.\n",
    "\n",
    "Your analysis should include:\n",
    "\n",
    "1.  A researched (with citations or links) **site description**,\n",
    "    including *why* you chose the site\n",
    "2.  A researched (with citations or links) **data description**,\n",
    "    including a **data citation**\n",
    "3.  A researched (with citations or links) **methods overview**\n",
    "4.  Some kind of **visual evidence** (plot, chart, diagram) for your\n",
    "    results\n",
    "5.  A **headline and description** for the visual evidence that\n",
    "    *interprets* your analysis and puts it *in context*\n",
    "\n",
    "You should also delete the instructions before submitting a portfolio page.\n",
    "\n",
    "To submit your portfolio post, we're going to do something a little different this week, to see if it is easier:\n",
    "\n",
    " 1. Put it in your portfolio repository, along with any images or interactive html visualization\n",
    " 2. Add a markdown file to the `posts/02-climate` folder that contains a link to your portfolio."
   ]
  },
  {
   "cell_type": "markdown",
   "id": "a7ee6028",
   "metadata": {},
   "source": [
    "# Coweeta Hydrologic Laboratory has been collecting climate data since it was established by the US Forest Service in 1934 \n",
    "## The data available online through the Global Historical Climatology Network includes data from Denver Co & Coweeta which will be compared in this post.\n",
    "* The Global Historical Climatology Network daily data integrates data from 30 different sources\n",
    "* Observations are from a variety of meteorological organizations using land-based stations around the globe.\n",
    "* Temperatures can be displayed in degrees Fahrenheit, but are collected in degrees Celsius\n",
    "* There are three steps used to integrate data from different countries. Some locations contain historic data only and a quality assurance protocol is used although the data is not homogenous.\n",
    "\n",
    "# Sources:\n",
    "* Menne, Matthew J., Imke Durre, Bryant Korzeniewski, Shelley McNeill, Kristy Thomas, Xungang Yin, Steven Anthony, Ron Ray, Russell S. Vose, Byron E.Gleason, and Tamara G. Houston (2012): Global Historical Climatology Network - Daily (GHCN-Daily), Version 3. Coweeta Hydrologic Station USC00312102. NOAA National Climatic Data Center. doi:10.7289/V5D21VHZ Accessed: Nov. 18, 2024.\n",
    "* Matthew J. Menne, Imke Durre, Russell S. Vose, Byron E. Gleason, and Tamara G. Houston, 2012: An Overview of the Global Historical Climatology Network-Daily Database. J. Atmos. Oceanic Technol., 29, 897-910. doi:10.1175/JTECH-D-11-00103.1.\n",
    "* https://www.ncei.noaa.gov/pub/data/ghcn/daily/readme.txt\n"
   ]
  }
 ],
 "metadata": {
  "kernelspec": {
   "display_name": "Python 3",
   "language": "python",
   "name": "python3"
  }
 },
 "nbformat": 4,
 "nbformat_minor": 5
}
