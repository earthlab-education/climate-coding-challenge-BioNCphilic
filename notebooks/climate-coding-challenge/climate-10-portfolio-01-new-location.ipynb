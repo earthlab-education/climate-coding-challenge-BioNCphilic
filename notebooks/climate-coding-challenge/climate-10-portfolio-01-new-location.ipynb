{
 "cells": [
  {
   "cell_type": "markdown",
   "id": "bac4c77c-5e17-4404-bcf6-9e2f815c570b",
   "metadata": {},
   "source": [
    "\n",
    "\n",
    " 1. Put it in your portfolio repository, along with any images or interactive html visualization\n",
    " 2. Add a markdown file to the `posts/02-climate` folder that contains a link to your portfolio."
   ]
  },
  {
   "cell_type": "markdown",
   "id": "a7ee6028",
   "metadata": {},
   "source": [
    "# Coweeta Hydrologic Laboratory has been collecting climate data since it was established by the US Forest Service in 1934 \n",
    "## The data available online through the Global Historical Climatology Network includes data from Denver Co & Coweeta which will be compared in this post.\n",
    "* The Global Historical Climatology Network daily data integrates data from 30 different sources\n",
    "* Observations are from a variety of meteorological organizations using land-based stations around the globe.\n",
    "* Temperatures can be displayed in degrees Fahrenheit, but are collected in degrees Celsius\n",
    "* There are three steps used to integrate data from different countries. Some locations contain historic data only and a quality assurance protocol is used although the data is not homogenous.\n",
    "\n",
    "# Sources:\n",
    "* Menne, Matthew J., Imke Durre, Bryant Korzeniewski, Shelley McNeill, Kristy Thomas, Xungang Yin, Steven Anthony, Ron Ray, Russell S. Vose, Byron E.Gleason, and Tamara G. Houston (2012): Global Historical Climatology Network - Daily (GHCN-Daily), Version 3. Coweeta Hydrologic Station USC00312102. NOAA National Climatic Data Center. doi:10.7289/V5D21VHZ Accessed: Nov. 18, 2024.\n",
    "* Matthew J. Menne, Imke Durre, Russell S. Vose, Byron E. Gleason, and Tamara G. Houston, 2012: An Overview of the Global Historical Climatology Network-Daily Database. J. Atmos. Oceanic Technol., 29, 897-910. doi:10.1175/JTECH-D-11-00103.1.\n",
    "* https://www.ncei.noaa.gov/pub/data/ghcn/daily/readme.txt\n"
   ]
  },
  {
   "cell_type": "code",
   "execution_count": 39,
   "id": "33c29913",
   "metadata": {},
   "outputs": [],
   "source": [
    "# Import required packages\n",
    "import holoviews as hv\n",
    "import hvplot.pandas\n",
    "import matplotlib.pyplot as plt\n",
    "import pandas as pd"
   ]
  },
  {
   "cell_type": "code",
   "execution_count": 2,
   "id": "4ba8c2cc",
   "metadata": {},
   "outputs": [],
   "source": [
    "# Common statistical plots for tabular data\n",
    "import seaborn as sns\n",
    "# Fit an OLS linear regression\n",
    "from sklearn.linear_model import LinearRegression"
   ]
  },
  {
   "cell_type": "code",
   "execution_count": 23,
   "id": "01febee8",
   "metadata": {},
   "outputs": [
    {
     "data": {
      "text/plain": [
       "'https://www.ncei.noaa.gov/access/services/data/v1?dataset=daily-summaries&dataTypes=TOBS,PRCP&stations=USC00312102&startDate=1961-01-01&endDate=2024-09-30&units=standard'"
      ]
     },
     "execution_count": 23,
     "metadata": {},
     "output_type": "execute_result"
    }
   ],
   "source": [
    "GHCnd_url = ('https://www.ncei.noaa.gov/access/services/data/v1'\n",
    "'?dataset=daily-summaries'\n",
    "'&dataTypes=TOBS,PRCP'\n",
    "'&stations=USC00312102'\n",
    "'&startDate=1961-01-01'\n",
    "'&endDate=2024-09-30'\n",
    "'&units=standard'\n",
    ")\n",
    "GHCnd_url"
   ]
  },
  {
   "cell_type": "code",
   "execution_count": 24,
   "id": "7d41fcff",
   "metadata": {},
   "outputs": [
    {
     "data": {
      "text/html": [
       "<div>\n",
       "<style scoped>\n",
       "    .dataframe tbody tr th:only-of-type {\n",
       "        vertical-align: middle;\n",
       "    }\n",
       "\n",
       "    .dataframe tbody tr th {\n",
       "        vertical-align: top;\n",
       "    }\n",
       "\n",
       "    .dataframe thead th {\n",
       "        text-align: right;\n",
       "    }\n",
       "</style>\n",
       "<table border=\"1\" class=\"dataframe\">\n",
       "  <thead>\n",
       "    <tr style=\"text-align: right;\">\n",
       "      <th></th>\n",
       "      <th>STATION</th>\n",
       "      <th>DATE</th>\n",
       "      <th>PRCP</th>\n",
       "      <th>TOBS</th>\n",
       "    </tr>\n",
       "  </thead>\n",
       "  <tbody>\n",
       "    <tr>\n",
       "      <th>0</th>\n",
       "      <td>USC00312102</td>\n",
       "      <td>1961-01-01</td>\n",
       "      <td>1.12</td>\n",
       "      <td>39.0</td>\n",
       "    </tr>\n",
       "    <tr>\n",
       "      <th>1</th>\n",
       "      <td>USC00312102</td>\n",
       "      <td>1961-01-02</td>\n",
       "      <td>0.00</td>\n",
       "      <td>23.0</td>\n",
       "    </tr>\n",
       "    <tr>\n",
       "      <th>2</th>\n",
       "      <td>USC00312102</td>\n",
       "      <td>1961-01-03</td>\n",
       "      <td>0.00</td>\n",
       "      <td>29.0</td>\n",
       "    </tr>\n",
       "    <tr>\n",
       "      <th>3</th>\n",
       "      <td>USC00312102</td>\n",
       "      <td>1961-01-04</td>\n",
       "      <td>0.00</td>\n",
       "      <td>33.0</td>\n",
       "    </tr>\n",
       "    <tr>\n",
       "      <th>4</th>\n",
       "      <td>USC00312102</td>\n",
       "      <td>1961-01-05</td>\n",
       "      <td>0.00</td>\n",
       "      <td>21.0</td>\n",
       "    </tr>\n",
       "    <tr>\n",
       "      <th>...</th>\n",
       "      <td>...</td>\n",
       "      <td>...</td>\n",
       "      <td>...</td>\n",
       "      <td>...</td>\n",
       "    </tr>\n",
       "    <tr>\n",
       "      <th>23278</th>\n",
       "      <td>USC00312102</td>\n",
       "      <td>2024-09-26</td>\n",
       "      <td>3.48</td>\n",
       "      <td>63.0</td>\n",
       "    </tr>\n",
       "    <tr>\n",
       "      <th>23279</th>\n",
       "      <td>USC00312102</td>\n",
       "      <td>2024-09-27</td>\n",
       "      <td>5.61</td>\n",
       "      <td>70.0</td>\n",
       "    </tr>\n",
       "    <tr>\n",
       "      <th>23280</th>\n",
       "      <td>USC00312102</td>\n",
       "      <td>2024-09-28</td>\n",
       "      <td>0.60</td>\n",
       "      <td>61.0</td>\n",
       "    </tr>\n",
       "    <tr>\n",
       "      <th>23281</th>\n",
       "      <td>USC00312102</td>\n",
       "      <td>2024-09-29</td>\n",
       "      <td>0.27</td>\n",
       "      <td>61.0</td>\n",
       "    </tr>\n",
       "    <tr>\n",
       "      <th>23282</th>\n",
       "      <td>USC00312102</td>\n",
       "      <td>2024-09-30</td>\n",
       "      <td>0.00</td>\n",
       "      <td>62.0</td>\n",
       "    </tr>\n",
       "  </tbody>\n",
       "</table>\n",
       "<p>23283 rows × 4 columns</p>\n",
       "</div>"
      ],
      "text/plain": [
       "           STATION        DATE  PRCP  TOBS\n",
       "0      USC00312102  1961-01-01  1.12  39.0\n",
       "1      USC00312102  1961-01-02  0.00  23.0\n",
       "2      USC00312102  1961-01-03  0.00  29.0\n",
       "3      USC00312102  1961-01-04  0.00  33.0\n",
       "4      USC00312102  1961-01-05  0.00  21.0\n",
       "...            ...         ...   ...   ...\n",
       "23278  USC00312102  2024-09-26  3.48  63.0\n",
       "23279  USC00312102  2024-09-27  5.61  70.0\n",
       "23280  USC00312102  2024-09-28  0.60  61.0\n",
       "23281  USC00312102  2024-09-29  0.27  61.0\n",
       "23282  USC00312102  2024-09-30  0.00  62.0\n",
       "\n",
       "[23283 rows x 4 columns]"
      ]
     },
     "execution_count": 24,
     "metadata": {},
     "output_type": "execute_result"
    }
   ],
   "source": [
    "# Import data into Python from NCEI API\n",
    "nc_climate_df = pd.read_csv(GHCnd_url)\n",
    "\n",
    "nc_climate_df"
   ]
  },
  {
   "cell_type": "code",
   "execution_count": 33,
   "id": "51aa0c7b",
   "metadata": {},
   "outputs": [
    {
     "data": {
      "text/html": [
       "<div>\n",
       "<style scoped>\n",
       "    .dataframe tbody tr th:only-of-type {\n",
       "        vertical-align: middle;\n",
       "    }\n",
       "\n",
       "    .dataframe tbody tr th {\n",
       "        vertical-align: top;\n",
       "    }\n",
       "\n",
       "    .dataframe thead th {\n",
       "        text-align: right;\n",
       "    }\n",
       "</style>\n",
       "<table border=\"1\" class=\"dataframe\">\n",
       "  <thead>\n",
       "    <tr style=\"text-align: right;\">\n",
       "      <th></th>\n",
       "      <th>STATION</th>\n",
       "      <th>PRCP</th>\n",
       "      <th>TOBS</th>\n",
       "    </tr>\n",
       "    <tr>\n",
       "      <th>DATE</th>\n",
       "      <th></th>\n",
       "      <th></th>\n",
       "      <th></th>\n",
       "    </tr>\n",
       "  </thead>\n",
       "  <tbody>\n",
       "    <tr>\n",
       "      <th>1961-01-01</th>\n",
       "      <td>USC00312102</td>\n",
       "      <td>1.12</td>\n",
       "      <td>39.0</td>\n",
       "    </tr>\n",
       "    <tr>\n",
       "      <th>1961-01-02</th>\n",
       "      <td>USC00312102</td>\n",
       "      <td>0.00</td>\n",
       "      <td>23.0</td>\n",
       "    </tr>\n",
       "    <tr>\n",
       "      <th>1961-01-03</th>\n",
       "      <td>USC00312102</td>\n",
       "      <td>0.00</td>\n",
       "      <td>29.0</td>\n",
       "    </tr>\n",
       "    <tr>\n",
       "      <th>1961-01-04</th>\n",
       "      <td>USC00312102</td>\n",
       "      <td>0.00</td>\n",
       "      <td>33.0</td>\n",
       "    </tr>\n",
       "    <tr>\n",
       "      <th>1961-01-05</th>\n",
       "      <td>USC00312102</td>\n",
       "      <td>0.00</td>\n",
       "      <td>21.0</td>\n",
       "    </tr>\n",
       "    <tr>\n",
       "      <th>...</th>\n",
       "      <td>...</td>\n",
       "      <td>...</td>\n",
       "      <td>...</td>\n",
       "    </tr>\n",
       "    <tr>\n",
       "      <th>2024-09-26</th>\n",
       "      <td>USC00312102</td>\n",
       "      <td>3.48</td>\n",
       "      <td>63.0</td>\n",
       "    </tr>\n",
       "    <tr>\n",
       "      <th>2024-09-27</th>\n",
       "      <td>USC00312102</td>\n",
       "      <td>5.61</td>\n",
       "      <td>70.0</td>\n",
       "    </tr>\n",
       "    <tr>\n",
       "      <th>2024-09-28</th>\n",
       "      <td>USC00312102</td>\n",
       "      <td>0.60</td>\n",
       "      <td>61.0</td>\n",
       "    </tr>\n",
       "    <tr>\n",
       "      <th>2024-09-29</th>\n",
       "      <td>USC00312102</td>\n",
       "      <td>0.27</td>\n",
       "      <td>61.0</td>\n",
       "    </tr>\n",
       "    <tr>\n",
       "      <th>2024-09-30</th>\n",
       "      <td>USC00312102</td>\n",
       "      <td>0.00</td>\n",
       "      <td>62.0</td>\n",
       "    </tr>\n",
       "  </tbody>\n",
       "</table>\n",
       "<p>23283 rows × 3 columns</p>\n",
       "</div>"
      ],
      "text/plain": [
       "                STATION  PRCP  TOBS\n",
       "DATE                               \n",
       "1961-01-01  USC00312102  1.12  39.0\n",
       "1961-01-02  USC00312102  0.00  23.0\n",
       "1961-01-03  USC00312102  0.00  29.0\n",
       "1961-01-04  USC00312102  0.00  33.0\n",
       "1961-01-05  USC00312102  0.00  21.0\n",
       "...                 ...   ...   ...\n",
       "2024-09-26  USC00312102  3.48  63.0\n",
       "2024-09-27  USC00312102  5.61  70.0\n",
       "2024-09-28  USC00312102  0.60  61.0\n",
       "2024-09-29  USC00312102  0.27  61.0\n",
       "2024-09-30  USC00312102  0.00  62.0\n",
       "\n",
       "[23283 rows x 3 columns]"
      ]
     },
     "execution_count": 33,
     "metadata": {},
     "output_type": "execute_result"
    }
   ],
   "source": [
    "# Download the climate data\n",
    "nc_climate_df = pd.read_csv(\n",
    "    GHCnd_url,\n",
    "    index_col='DATE',\n",
    "    parse_dates=True,\n",
    "    na_values=['NaN'],\n",
    "    )\n",
    "nc_climate_df.dropna()\n",
    "\n",
    "nc_climate_df"
   ]
  },
  {
   "cell_type": "code",
   "execution_count": 34,
   "id": "2833affc",
   "metadata": {},
   "outputs": [],
   "source": [
    "if not isinstance(nc_climate_df.index, pd.DatetimeIndex):\n",
    "    # Assuming a column 'Date' or similar contains datetime information\n",
    "    nc_climate_df.set_index('Date', inplace=True)"
   ]
  },
  {
   "cell_type": "code",
   "execution_count": 35,
   "id": "48d7f553",
   "metadata": {},
   "outputs": [
    {
     "data": {
      "text/html": [
       "<div>\n",
       "<style scoped>\n",
       "    .dataframe tbody tr th:only-of-type {\n",
       "        vertical-align: middle;\n",
       "    }\n",
       "\n",
       "    .dataframe tbody tr th {\n",
       "        vertical-align: top;\n",
       "    }\n",
       "\n",
       "    .dataframe thead th {\n",
       "        text-align: right;\n",
       "    }\n",
       "</style>\n",
       "<table border=\"1\" class=\"dataframe\">\n",
       "  <thead>\n",
       "    <tr style=\"text-align: right;\">\n",
       "      <th></th>\n",
       "      <th>STATION</th>\n",
       "      <th>PRCP</th>\n",
       "      <th>TOBS</th>\n",
       "      <th>temp_c</th>\n",
       "    </tr>\n",
       "    <tr>\n",
       "      <th>DATE</th>\n",
       "      <th></th>\n",
       "      <th></th>\n",
       "      <th></th>\n",
       "      <th></th>\n",
       "    </tr>\n",
       "  </thead>\n",
       "  <tbody>\n",
       "    <tr>\n",
       "      <th>1961-01-01</th>\n",
       "      <td>USC00312102</td>\n",
       "      <td>1.12</td>\n",
       "      <td>39.0</td>\n",
       "      <td>3.888889</td>\n",
       "    </tr>\n",
       "    <tr>\n",
       "      <th>1961-01-02</th>\n",
       "      <td>USC00312102</td>\n",
       "      <td>0.00</td>\n",
       "      <td>23.0</td>\n",
       "      <td>-5.000000</td>\n",
       "    </tr>\n",
       "    <tr>\n",
       "      <th>1961-01-03</th>\n",
       "      <td>USC00312102</td>\n",
       "      <td>0.00</td>\n",
       "      <td>29.0</td>\n",
       "      <td>-1.666667</td>\n",
       "    </tr>\n",
       "    <tr>\n",
       "      <th>1961-01-04</th>\n",
       "      <td>USC00312102</td>\n",
       "      <td>0.00</td>\n",
       "      <td>33.0</td>\n",
       "      <td>0.555556</td>\n",
       "    </tr>\n",
       "    <tr>\n",
       "      <th>1961-01-05</th>\n",
       "      <td>USC00312102</td>\n",
       "      <td>0.00</td>\n",
       "      <td>21.0</td>\n",
       "      <td>-6.111111</td>\n",
       "    </tr>\n",
       "    <tr>\n",
       "      <th>...</th>\n",
       "      <td>...</td>\n",
       "      <td>...</td>\n",
       "      <td>...</td>\n",
       "      <td>...</td>\n",
       "    </tr>\n",
       "    <tr>\n",
       "      <th>2024-09-26</th>\n",
       "      <td>USC00312102</td>\n",
       "      <td>3.48</td>\n",
       "      <td>63.0</td>\n",
       "      <td>17.222222</td>\n",
       "    </tr>\n",
       "    <tr>\n",
       "      <th>2024-09-27</th>\n",
       "      <td>USC00312102</td>\n",
       "      <td>5.61</td>\n",
       "      <td>70.0</td>\n",
       "      <td>21.111111</td>\n",
       "    </tr>\n",
       "    <tr>\n",
       "      <th>2024-09-28</th>\n",
       "      <td>USC00312102</td>\n",
       "      <td>0.60</td>\n",
       "      <td>61.0</td>\n",
       "      <td>16.111111</td>\n",
       "    </tr>\n",
       "    <tr>\n",
       "      <th>2024-09-29</th>\n",
       "      <td>USC00312102</td>\n",
       "      <td>0.27</td>\n",
       "      <td>61.0</td>\n",
       "      <td>16.111111</td>\n",
       "    </tr>\n",
       "    <tr>\n",
       "      <th>2024-09-30</th>\n",
       "      <td>USC00312102</td>\n",
       "      <td>0.00</td>\n",
       "      <td>62.0</td>\n",
       "      <td>16.666667</td>\n",
       "    </tr>\n",
       "  </tbody>\n",
       "</table>\n",
       "<p>23283 rows × 4 columns</p>\n",
       "</div>"
      ],
      "text/plain": [
       "                STATION  PRCP  TOBS     temp_c\n",
       "DATE                                          \n",
       "1961-01-01  USC00312102  1.12  39.0   3.888889\n",
       "1961-01-02  USC00312102  0.00  23.0  -5.000000\n",
       "1961-01-03  USC00312102  0.00  29.0  -1.666667\n",
       "1961-01-04  USC00312102  0.00  33.0   0.555556\n",
       "1961-01-05  USC00312102  0.00  21.0  -6.111111\n",
       "...                 ...   ...   ...        ...\n",
       "2024-09-26  USC00312102  3.48  63.0  17.222222\n",
       "2024-09-27  USC00312102  5.61  70.0  21.111111\n",
       "2024-09-28  USC00312102  0.60  61.0  16.111111\n",
       "2024-09-29  USC00312102  0.27  61.0  16.111111\n",
       "2024-09-30  USC00312102  0.00  62.0  16.666667\n",
       "\n",
       "[23283 rows x 4 columns]"
      ]
     },
     "execution_count": 35,
     "metadata": {},
     "output_type": "execute_result"
    }
   ],
   "source": [
    "nc_climate_df['temp_c'] = (nc_climate_df['TOBS'] - 32) * 5 / 9\n",
    "\n",
    "nc_climate_df"
   ]
  },
  {
   "cell_type": "code",
   "execution_count": 36,
   "id": "5949889e",
   "metadata": {},
   "outputs": [
    {
     "data": {
      "text/plain": [
       "<Axes: title={'center': 'Daily Temperature at Coweeta Hydrological Lab'}, xlabel='Date', ylabel='Temperature ($^\\\\circ$F)'>"
      ]
     },
     "execution_count": 36,
     "metadata": {},
     "output_type": "execute_result"
    },
    {
     "data": {
      "image/png": "[encoded data removed]",
      "text/plain": [
       "<Figure size 640x480 with 1 Axes>"
      ]
     },
     "metadata": {},
     "output_type": "display_data"
    }
   ],
   "source": [
    "# Plot the data using .plot\n",
    "nc_climate_df.plot(\n",
    "    y='temp_c',\n",
    "    title='Daily Temperature at Coweeta Hydrological Lab',\n",
    "    xlabel='Date',\n",
    "    ylabel='Temperature ($^\\circ$F)')"
   ]
  },
  {
   "cell_type": "code",
   "execution_count": 41,
   "id": "e4ef9222",
   "metadata": {},
   "outputs": [
    {
     "name": "stdout",
     "output_type": "stream",
     "text": [
      "Mean Temperature: 10.085713600498837\n"
     ]
    }
   ],
   "source": [
    "# Calculate the mean temperature\n",
    "mean_temp = nc_climate_df['temp_c'].mean()\n",
    "print(\"Mean Temperature:\", mean_temp)\n"
   ]
  },
  {
   "cell_type": "code",
   "execution_count": 43,
   "id": "7b5d50e0",
   "metadata": {},
   "outputs": [
    {
     "name": "stdout",
     "output_type": "stream",
     "text": [
      "DATE\n",
      "1961    10.856227\n",
      "1962    11.321157\n",
      "1963    10.462454\n",
      "1964    13.897243\n",
      "1965    11.004566\n",
      "          ...    \n",
      "2020    10.918336\n",
      "2021    10.313546\n",
      "2022    10.111111\n",
      "2023    10.490107\n",
      "2024    12.862936\n",
      "Name: temp_c, Length: 64, dtype: float64\n"
     ]
    }
   ],
   "source": [
    "# Group by year and calculate the mean temperature\n",
    "yearly_avg_temp = nc_climate_df.groupby(nc_climate_df.index.year)['temp_c'].mean()\n",
    "\n",
    "print(yearly_avg_temp)"
   ]
  },
  {
   "cell_type": "code",
   "execution_count": 69,
   "id": "1675ec35",
   "metadata": {},
   "outputs": [
    {
     "name": "stdout",
     "output_type": "stream",
     "text": [
      "   DATE  Average_Temperature\n",
      "0  1961            10.856227\n",
      "1  1962            11.321157\n",
      "2  1963            10.462454\n",
      "3  1964            13.897243\n",
      "4  1965            11.004566\n"
     ]
    }
   ],
   "source": [
    "# Convert the Series to a DataFrame with 'Year' as the index\n",
    "nc_ann_climate_df = yearly_avg_temp.to_frame(name='Average_Temperature')\n",
    "\n",
    "# Reset the index to make 'Year' a regular column\n",
    "nc_ann_climate_df.reset_index('DATE', inplace=True)\n",
    "print(nc_ann_climate_df.head())"
   ]
  },
  {
   "cell_type": "code",
   "execution_count": 67,
   "id": "d1bc3e75",
   "metadata": {},
   "outputs": [
    {
     "name": "stdout",
     "output_type": "stream",
     "text": [
      "Slope: 0.00 degrees Celsius per year\n"
     ]
    }
   ],
   "source": [
    "nc_ann_climate_df = nc_ann_climate_df.loc['1961':'2024']\n",
    "\n",
    "# Create a Linear Regression model\n",
    "model = LinearRegression()\n",
    "\n",
    "# Fit the model on the training data\n",
    "model.fit(nc_ann_climate_df[['DATE']], nc_ann_climate_df['Average_Temperature'])\n",
    "\n",
    "# Calculate and print the metrics\n",
    "slope = model.coef_[0]\n",
    "print(f\"Slope: {slope:.2f} degrees Celsius per year\")"
   ]
  },
  {
   "cell_type": "code",
   "execution_count": 71,
   "id": "d17fef01",
   "metadata": {},
   "outputs": [
    {
     "data": {
      "image/png": "[encoded data removed]",
      "text/plain": [
       "<Figure size 640x480 with 1 Axes>"
      ]
     },
     "metadata": {},
     "output_type": "display_data"
    }
   ],
   "source": [
    "ax = sns.regplot(\n",
    "    x=nc_ann_climate_df.DATE, \n",
    "    y=nc_ann_climate_df.Average_Temperature,\n",
    "    color='red',\n",
    "    line_kws={'color': 'black'})\n",
    "ax.set(\n",
    "    title='Annual Average Daily Temperature over time at Coweeta Lab',\n",
    "    xlabel='Year',\n",
    "    ylabel='Temperature ($^\\circ$C)'\n",
    ")\n",
    "plt.show()"
   ]
  }
 ],
 "metadata": {
  "kernelspec": {
   "display_name": "base",
   "language": "python",
   "name": "python3"
  },
  "language_info": {
   "codemirror_mode": {
    "name": "ipython",
    "version": 3
   },
   "file_extension": ".py",
   "mimetype": "text/x-python",
   "name": "python",
   "nbconvert_exporter": "python",
   "pygments_lexer": "ipython3",
   "version": "3.10.11"
  }
 },
 "nbformat": 4,
 "nbformat_minor": 5
}
